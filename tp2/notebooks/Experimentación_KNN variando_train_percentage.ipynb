{
 "cells": [
  {
   "cell_type": "code",
   "execution_count": 1,
   "metadata": {},
   "outputs": [
    {
     "name": "stdout",
     "output_type": "stream",
     "text": [
      "mkdir: cannot create directory ‘build’: File exists\n",
      "-- The C compiler identification is GNU 9.3.0\n",
      "-- The CXX compiler identification is GNU 9.3.0\n",
      "-- Check for working C compiler: /usr/bin/cc\n",
      "-- Check for working C compiler: /usr/bin/cc -- works\n",
      "-- Detecting C compiler ABI info\n",
      "-- Detecting C compiler ABI info - done\n",
      "-- Detecting C compile features\n",
      "-- Detecting C compile features - done\n",
      "-- Check for working CXX compiler: /usr/bin/c++\n",
      "-- Check for working CXX compiler: /usr/bin/c++ -- works\n",
      "-- Detecting CXX compiler ABI info\n",
      "-- Detecting CXX compiler ABI info - done\n",
      "-- Detecting CXX compile features\n",
      "-- Detecting CXX compile features - done\n",
      "Release mode\n",
      "-- Found PythonInterp: /usr/bin/python3 (found version \"3.8.2\") \n",
      "-- Found PythonLibs: /usr/lib/x86_64-linux-gnu/libpython3.8.so\n",
      "-- pybind11 v2.5.dev1\n",
      "-- Performing Test HAS_FLTO\n",
      "-- Performing Test HAS_FLTO - Success\n",
      "-- LTO enabled\n",
      "CMAKE_INSTALL_PREFIX=/home/lisandro/Documents/mt/tp2\n",
      "-- Configuring done\n",
      "-- Generating done\n",
      "-- Build files have been written to: /home/lisandro/Documents/mt/tp2/build\n",
      "\u001b[35m\u001b[1mScanning dependencies of target tp2\u001b[0m\n",
      "[ 10%] \u001b[32mBuilding CXX object CMakeFiles/tp2.dir/src/main.cpp.o\u001b[0m\n",
      "[ 20%] \u001b[32mBuilding CXX object CMakeFiles/tp2.dir/src/knn.cpp.o\u001b[0m\n",
      "[ 30%] \u001b[32mBuilding CXX object CMakeFiles/tp2.dir/src/pca.cpp.o\u001b[0m\n",
      "[ 40%] \u001b[32mBuilding CXX object CMakeFiles/tp2.dir/src/eigen.cpp.o\u001b[0m\n",
      "[ 50%] \u001b[32m\u001b[1mLinking CXX executable tp2\u001b[0m\n",
      "[ 50%] Built target tp2\n",
      "\u001b[35m\u001b[1mScanning dependencies of target metnum\u001b[0m\n",
      "[ 60%] \u001b[32mBuilding CXX object CMakeFiles/metnum.dir/src/metnum.cpp.o\u001b[0m\n",
      "[ 70%] \u001b[32mBuilding CXX object CMakeFiles/metnum.dir/src/knn.cpp.o\u001b[0m\n",
      "[ 80%] \u001b[32mBuilding CXX object CMakeFiles/metnum.dir/src/pca.cpp.o\u001b[0m\n",
      "[ 90%] \u001b[32mBuilding CXX object CMakeFiles/metnum.dir/src/eigen.cpp.o\u001b[0m\n",
      "[100%] \u001b[32m\u001b[1mLinking CXX shared module metnum.cpython-38-x86_64-linux-gnu.so\u001b[0m\n",
      "[100%] Built target metnum\n",
      "\u001b[36mInstall the project...\u001b[0m\n",
      "-- Install configuration: \"Release\"\n",
      "-- Installing: /home/lisandro/Documents/mt/tp2/notebooks/metnum.cpython-38-x86_64-linux-gnu.so\n"
     ]
    }
   ],
   "source": [
    "!cd .. && git submodule init\n",
    "!cd .. && git submodule update\n",
    "!cd .. && mkdir build\n",
    "!cd ../build/ && rm -rf *\n",
    "!cd ../build && cmake \\\n",
    "  -DPYTHON_EXECUTABLE=\"$(which python3)\" \\\n",
    "  -DCMAKE_BUILD_TYPE=Release ..\n",
    "!cd ../build && make install"
   ]
  },
  {
   "cell_type": "code",
   "execution_count": 2,
   "metadata": {},
   "outputs": [],
   "source": [
    "import matplotlib.pyplot as plt\n",
    "import pandas as pd\n",
    "import numpy as np\n",
    "import seaborn as sns \n",
    "import metnum as mt\n",
    "import datetime\n",
    "import os\n",
    "from datetime import datetime\n",
    "from sklearn.neighbors import KNeighborsClassifier\n",
    "from numpy import savetxt\n",
    "from sklearn.metrics import accuracy_score"
   ]
  },
  {
   "cell_type": "code",
   "execution_count": 46,
   "metadata": {},
   "outputs": [
    {
     "name": "stdout",
     "output_type": "stream",
     "text": [
      "The autoreload extension is already loaded. To reload it, use:\n",
      "  %reload_ext autoreload\n",
      "Ahora tengo 33600 instancias de entrenamiento y 8400 de validación\n"
     ]
    }
   ],
   "source": [
    "#percentage over total of train cases\n",
    "PERCENTAGE_OF_TRAIN_CASES = 1\n",
    "#neighbors for finding the mode in KNN\n",
    "N_NEIGHBORS = 3\n",
    "#components for PCA\n",
    "N_COMPONENTS=40\n",
    "#number of iterations to find eigenvalues and eigenvectors in power iteration\n",
    "N_ITERATIONS=5000\n",
    "#epsilon for power iteration\n",
    "EPSILON=1e-10\n",
    "#directory for saving matrix files\n",
    "timestamp = datetime.now().strftime(\"%m_%d_%H_%M_%S\")\n",
    "DIRECTORY_NAME=\"{}\".format(timestamp)\n",
    "os.makedirs(DIRECTORY_NAME+\"/\", exist_ok=True)\n",
    "\n",
    "%load_ext autoreload\n",
    "%autoreload 2\n",
    "\n",
    "df_train = pd.read_csv('/home/lisandro/Documents/mt/tp2/data/train.csv')\n",
    "\n",
    "TOTAL_TRAIN_CASES = int(PERCENTAGE_OF_TRAIN_CASES*len(df_train))\n",
    "\n",
    "#shuffle the train cases.\n",
    "df_train = df_train[0: TOTAL_TRAIN_CASES].sample(frac=1)\n",
    "\n",
    "# Uso values para mandar todo a arrays de numpy\n",
    "X = df_train[df_train.columns[1:]].values\n",
    "y = df_train[\"label\"].values.reshape(-1, 1)\n",
    "\n",
    "limit = int(0.8 * X.shape[0]) \n",
    "\n",
    "X_train, y_train = X[:limit], y[:limit]\n",
    "X_test, y_test = X[limit:], y[limit:]\n",
    "\n",
    "assert len(X_train) == len(y_train)\n",
    "assert len(X_test) == len(y_test)\n",
    "\n",
    "print(f\"Ahora tengo {len(X_train)} instancias de entrenamiento y {len(X_test)} de validación\")"
   ]
  },
  {
   "cell_type": "code",
   "execution_count": 48,
   "metadata": {},
   "outputs": [
    {
     "name": "stdout",
     "output_type": "stream",
     "text": [
      "CPU times: user 2h 39min 55s, sys: 5.11 s, total: 2h 40min\n",
      "Wall time: 2h 39min 45s\n"
     ]
    }
   ],
   "source": [
    "%%time \n",
    "\n",
    "s = np.random.uniform(0,1,20)\n",
    "train_percentages = s.tolist()\n",
    "acc_list = []\n",
    "train_percentages_list = []\n",
    "\n",
    "for i in train_percentages:\n",
    "    limit = int(i * X.shape[0]) \n",
    "    X_train, y_train = X[:limit], y[:limit]\n",
    "    X_test, y_test = X[limit:], y[limit:]\n",
    "    \n",
    "    #Training the model and predicting the labels. \n",
    "    clf = mt.KNNClassifier(3)\n",
    "    clf.fit(X_train,y_train)\n",
    "    pred = clf.predict(X_test)\n",
    "    \n",
    "    \n",
    "    acc_list.append(accuracy_score(pred, y_test))\n",
    "    train_percentages_list.append(i)\n"
   ]
  },
  {
   "cell_type": "code",
   "execution_count": 70,
   "metadata": {},
   "outputs": [
    {
     "data": {
      "text/plain": [
       "[]"
      ]
     },
     "execution_count": 70,
     "metadata": {},
     "output_type": "execute_result"
    },
    {
     "data": {
      "image/png": "[encoded data removed]",
      "text/plain": [
       "<Figure size 720x432 with 1 Axes>"
      ]
     },
     "metadata": {
      "needs_background": "light"
     },
     "output_type": "display_data"
    }
   ],
   "source": [
    "from matplotlib import rcParams\n",
    "rcParams['figure.figsize'] = 10,6\n",
    "\n",
    "dicc = {\n",
    "    'Porcentajes del train utilizado' : train_percentages_list,\n",
    "    'Accuracy' : acc_list\n",
    "}\n",
    "\n",
    "dfj = pd.DataFrame(dicc)\n",
    "\n",
    "a = sns.lineplot(data = dfj, x = 'Porcentajes del train utilizado', y = 'Accuracy', color = 'orange')\n",
    "a = sns.scatterplot(data = dfj, x = 'Porcentajes del train utilizado', y = 'Accuracy')\n",
    "a.set_title('Accuracy al variar porcentaje utilizado para entrenar')\n",
    "a.plot()"
   ]
  }
 ],
 "metadata": {
  "kernelspec": {
   "display_name": "Python 3",
   "language": "python",
   "name": "python3"
  },
  "language_info": {
   "codemirror_mode": {
    "name": "ipython",
    "version": 3
   },
   "file_extension": ".py",
   "mimetype": "text/x-python",
   "name": "python",
   "nbconvert_exporter": "python",
   "pygments_lexer": "ipython3",
   "version": "3.8.2"
  }
 },
 "nbformat": 4,
 "nbformat_minor": 4
}
