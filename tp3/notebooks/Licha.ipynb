{
 "cells": [
  {
   "cell_type": "code",
   "execution_count": 1,
   "metadata": {},
   "outputs": [
    {
     "name": "stdout",
     "output_type": "stream",
     "text": [
      "mkdir: cannot create directory ‘build’: File exists\n",
      "-- The C compiler identification is GNU 9.3.0\n",
      "-- The CXX compiler identification is GNU 9.3.0\n",
      "-- Check for working C compiler: /usr/bin/cc\n",
      "-- Check for working C compiler: /usr/bin/cc -- works\n",
      "-- Detecting C compiler ABI info\n",
      "-- Detecting C compiler ABI info - done\n",
      "-- Detecting C compile features\n",
      "-- Detecting C compile features - done\n",
      "-- Check for working CXX compiler: /usr/bin/c++\n",
      "-- Check for working CXX compiler: /usr/bin/c++ -- works\n",
      "-- Detecting CXX compiler ABI info\n",
      "-- Detecting CXX compiler ABI info - done\n",
      "-- Detecting CXX compile features\n",
      "-- Detecting CXX compile features - done\n",
      "Release mode\n",
      "-- Found PythonInterp: /usr/bin/python3 (found version \"3.8.2\") \n",
      "-- Found PythonLibs: /usr/lib/x86_64-linux-gnu/libpython3.8.so\n",
      "-- pybind11 v2.2.4\n",
      "-- Performing Test HAS_FLTO\n",
      "-- Performing Test HAS_FLTO - Success\n",
      "-- LTO enabled\n",
      "CMAKE_INSTALL_PREFIX=/home/lisandro/Documents/mt/tp3\n",
      "-- Configuring done\n",
      "-- Generating done\n",
      "-- Build files have been written to: /home/lisandro/Documents/mt/tp3/build\n",
      "\u001b[35m\u001b[1mScanning dependencies of target metnum\u001b[0m\n",
      "[ 33%] \u001b[32mBuilding CXX object CMakeFiles/metnum.dir/src/metnum.cpp.o\u001b[0m\n",
      "[ 66%] \u001b[32mBuilding CXX object CMakeFiles/metnum.dir/src/linear_regression.cpp.o\u001b[0m\n",
      "[100%] \u001b[32m\u001b[1mLinking CXX shared module metnum.cpython-38-x86_64-linux-gnu.so\u001b[0m\n",
      "[100%] Built target metnum\n",
      "\u001b[36mInstall the project...\u001b[0m\n",
      "-- Install configuration: \"Release\"\n",
      "-- Installing: /home/lisandro/Documents/mt/tp3/notebooks/metnum.cpython-38-x86_64-linux-gnu.so\n"
     ]
    }
   ],
   "source": [
    "!cd .. && mkdir build\n",
    "!cd ../build/ && rm -rf *\n",
    "!cd ../build && cmake \\\n",
    "  -DPYTHON_EXECUTABLE=\"$(which python3)\" \\\n",
    "  -DCMAKE_BUILD_TYPE=Release ..\n",
    "!cd ../build && make install"
   ]
  },
  {
   "cell_type": "code",
   "execution_count": 226,
   "metadata": {},
   "outputs": [],
   "source": [
    "import metnum\n",
    "\n",
    "import pandas as pd \n",
    "import matplotlib.pyplot as plt\n",
    "import seaborn as sns\n",
    "from sklearn.linear_model import LinearRegression\n",
    "import util\n",
    "import math\n",
    "import os \n",
    "import time"
   ]
  },
  {
   "cell_type": "code",
   "execution_count": 269,
   "metadata": {},
   "outputs": [
    {
     "name": "stdout",
     "output_type": "stream",
     "text": [
      "<class 'pandas.core.frame.DataFrame'>\n",
      "RangeIndex: 240000 entries, 0 to 239999\n",
      "Data columns (total 13 columns):\n",
      " #   Column                      Non-Null Count   Dtype  \n",
      "---  ------                      --------------   -----  \n",
      " 0   antiguedad                  196445 non-null  float64\n",
      " 1   habitaciones                217529 non-null  float64\n",
      " 2   garages                     202235 non-null  float64\n",
      " 3   banos                       213779 non-null  float64\n",
      " 4   metroscubiertos             222600 non-null  float64\n",
      " 5   metrostotales               188533 non-null  float64\n",
      " 6   gimnasio                    240000 non-null  float64\n",
      " 7   usosmultiples               240000 non-null  float64\n",
      " 8   piscina                     240000 non-null  float64\n",
      " 9   escuelascercanas            240000 non-null  float64\n",
      " 10  centroscomercialescercanos  240000 non-null  float64\n",
      " 11  precio                      240000 non-null  float64\n",
      " 12  jacuzzi                     240000 non-null  int64  \n",
      "dtypes: float64(12), int64(1)\n",
      "memory usage: 23.8 MB\n"
     ]
    }
   ],
   "source": [
    "df = df.drop(columns = ['id','titulo','descripcion','tipodepropiedad','direccion','ciudad','provincia','idzona','lat','lng','fecha'])\n",
    "df.info()"
   ]
  },
  {
   "cell_type": "code",
   "execution_count": 228,
   "metadata": {},
   "outputs": [
    {
     "data": {
      "text/html": [
       "<div>\n",
       "<style scoped>\n",
       "    .dataframe tbody tr th:only-of-type {\n",
       "        vertical-align: middle;\n",
       "    }\n",
       "\n",
       "    .dataframe tbody tr th {\n",
       "        vertical-align: top;\n",
       "    }\n",
       "\n",
       "    .dataframe thead th {\n",
       "        text-align: right;\n",
       "    }\n",
       "</style>\n",
       "<table border=\"1\" class=\"dataframe\">\n",
       "  <thead>\n",
       "    <tr style=\"text-align: right;\">\n",
       "      <th></th>\n",
       "      <th>precio</th>\n",
       "    </tr>\n",
       "  </thead>\n",
       "  <tbody>\n",
       "    <tr>\n",
       "      <th>count</th>\n",
       "      <td>2.400000e+05</td>\n",
       "    </tr>\n",
       "    <tr>\n",
       "      <th>mean</th>\n",
       "      <td>2.530838e+06</td>\n",
       "    </tr>\n",
       "    <tr>\n",
       "      <th>std</th>\n",
       "      <td>2.152552e+06</td>\n",
       "    </tr>\n",
       "    <tr>\n",
       "      <th>min</th>\n",
       "      <td>3.100000e+05</td>\n",
       "    </tr>\n",
       "    <tr>\n",
       "      <th>25%</th>\n",
       "      <td>9.527725e+05</td>\n",
       "    </tr>\n",
       "    <tr>\n",
       "      <th>50%</th>\n",
       "      <td>1.850000e+06</td>\n",
       "    </tr>\n",
       "    <tr>\n",
       "      <th>75%</th>\n",
       "      <td>3.390000e+06</td>\n",
       "    </tr>\n",
       "    <tr>\n",
       "      <th>max</th>\n",
       "      <td>1.252500e+07</td>\n",
       "    </tr>\n",
       "  </tbody>\n",
       "</table>\n",
       "</div>"
      ],
      "text/plain": [
       "             precio\n",
       "count  2.400000e+05\n",
       "mean   2.530838e+06\n",
       "std    2.152552e+06\n",
       "min    3.100000e+05\n",
       "25%    9.527725e+05\n",
       "50%    1.850000e+06\n",
       "75%    3.390000e+06\n",
       "max    1.252500e+07"
      ]
     },
     "execution_count": 228,
     "metadata": {},
     "output_type": "execute_result"
    }
   ],
   "source": [
    "df_precio = df[['precio']]\n",
    "df_precio.describe()"
   ]
  },
  {
   "cell_type": "code",
   "execution_count": 268,
   "metadata": {},
   "outputs": [
    {
     "name": "stdout",
     "output_type": "stream",
     "text": [
      "9574\n",
      "<class 'pandas.core.frame.DataFrame'>\n",
      "RangeIndex: 240000 entries, 0 to 239999\n",
      "Data columns (total 24 columns):\n",
      " #   Column                      Non-Null Count   Dtype  \n",
      "---  ------                      --------------   -----  \n",
      " 0   id                          240000 non-null  int64  \n",
      " 1   titulo                      234613 non-null  object \n",
      " 2   descripcion                 238381 non-null  object \n",
      " 3   tipodepropiedad             239954 non-null  object \n",
      " 4   direccion                   186928 non-null  object \n",
      " 5   ciudad                      239628 non-null  object \n",
      " 6   provincia                   239845 non-null  object \n",
      " 7   antiguedad                  196445 non-null  float64\n",
      " 8   habitaciones                217529 non-null  float64\n",
      " 9   garages                     202235 non-null  float64\n",
      " 10  banos                       213779 non-null  float64\n",
      " 11  metroscubiertos             222600 non-null  float64\n",
      " 12  metrostotales               188533 non-null  float64\n",
      " 13  idzona                      211379 non-null  float64\n",
      " 14  lat                         116512 non-null  float64\n",
      " 15  lng                         116512 non-null  float64\n",
      " 16  fecha                       240000 non-null  object \n",
      " 17  gimnasio                    240000 non-null  float64\n",
      " 18  usosmultiples               240000 non-null  float64\n",
      " 19  piscina                     240000 non-null  float64\n",
      " 20  escuelascercanas            240000 non-null  float64\n",
      " 21  centroscomercialescercanos  240000 non-null  float64\n",
      " 22  precio                      240000 non-null  float64\n",
      " 23  jacuzzi                     240000 non-null  int64  \n",
      "dtypes: float64(15), int64(2), object(7)\n",
      "memory usage: 43.9+ MB\n",
      "CPU times: user 3.84 s, sys: 11.8 ms, total: 3.85 s\n",
      "Wall time: 3.85 s\n"
     ]
    }
   ],
   "source": [
    "%%time\n",
    "\n",
    "df = pd.read_csv('../data/train.csv')\n",
    "\n",
    "## Creo un feature llamado jacuzzi. Vale 1 sii la descripción contiene 'jacuzzi'\n",
    "\n",
    "jacuzzi_list = []\n",
    "\n",
    "for x in range(len(df)):\n",
    "    if (str(df['descripcion'][x])).find('jacuzzi') != -1:\n",
    "        jacuzzi_list.append(1)\n",
    "    else:\n",
    "        jacuzzi_list.append(0)\n",
    "\n",
    "print(count)\n",
    "df['jacuzzi'] = jacuzzi_list\n",
    "\n",
    "df.info()"
   ]
  },
  {
   "cell_type": "code",
   "execution_count": 237,
   "metadata": {},
   "outputs": [
    {
     "ename": "TypeError",
     "evalue": "fit(): incompatible function arguments. The following argument types are supported:\n    1. (self: metnum.LinearRegression, arg0: numpy.ndarray[float64[m, n]], arg1: numpy.ndarray[float64[m, n]]) -> None\n\nInvoked with: array([[293.],\n       [120.],\n       [233.],\n       ...,\n       [198.],\n       [130.],\n       [160.]]), array([[4200000.],\n       [ 610000.],\n       [2000000.],\n       ...,\n       [3700000.],\n       [1395000.],\n       [1350000.]])",
     "output_type": "error",
     "traceback": [
      "\u001b[0;31m---------------------------------------------------------------------------\u001b[0m",
      "\u001b[0;31mTypeError\u001b[0m                                 Traceback (most recent call last)",
      "\u001b[0;32m<ipython-input-237-961a219da76a>\u001b[0m in \u001b[0;36m<module>\u001b[0;34m\u001b[0m\n\u001b[1;32m      6\u001b[0m \u001b[0;34m\u001b[0m\u001b[0m\n\u001b[1;32m      7\u001b[0m \u001b[0mlinear_regressor\u001b[0m \u001b[0;34m=\u001b[0m \u001b[0mmetnum\u001b[0m\u001b[0;34m.\u001b[0m\u001b[0mLinearRegression\u001b[0m\u001b[0;34m\u001b[0m\u001b[0;34m\u001b[0m\u001b[0m\n\u001b[0;32m----> 8\u001b[0;31m \u001b[0mlinear_regressor\u001b[0m\u001b[0;34m.\u001b[0m\u001b[0mfit\u001b[0m\u001b[0;34m(\u001b[0m\u001b[0mx\u001b[0m\u001b[0;34m,\u001b[0m\u001b[0my\u001b[0m\u001b[0;34m)\u001b[0m\u001b[0;34m\u001b[0m\u001b[0;34m\u001b[0m\u001b[0m\n\u001b[0m",
      "\u001b[0;31mTypeError\u001b[0m: fit(): incompatible function arguments. The following argument types are supported:\n    1. (self: metnum.LinearRegression, arg0: numpy.ndarray[float64[m, n]], arg1: numpy.ndarray[float64[m, n]]) -> None\n\nInvoked with: array([[293.],\n       [120.],\n       [233.],\n       ...,\n       [198.],\n       [130.],\n       [160.]]), array([[4200000.],\n       [ 610000.],\n       [2000000.],\n       ...,\n       [3700000.],\n       [1395000.],\n       [1350000.]])"
     ]
    }
   ],
   "source": [
    "x = df_con_jacuzzi['metroscubiertos'].values\n",
    "y = df_con_jacuzzi['precio'].values\n",
    "\n",
    "x = x.reshape(len(x),1)\n",
    "y = y.reshape(len(y),1)\n",
    "\n",
    "linear_regressor = metnum.LinearRegression\n",
    "linear_regressor.fit(x,y)"
   ]
  },
  {
   "cell_type": "code",
   "execution_count": 212,
   "metadata": {},
   "outputs": [],
   "source": [
    "df = pd.read_csv('../data/train.csv')"
   ]
  },
  {
   "cell_type": "code",
   "execution_count": 281,
   "metadata": {},
   "outputs": [
    {
     "data": {
      "text/plain": [
       "{'rmse': [1481686.3513882118],\n",
       " 'rmsle': [0.6369618527226388],\n",
       " 'percentage_of_train_cases': [0.8],\n",
       " 'time': [0.014633893966674805]}"
      ]
     },
     "execution_count": 281,
     "metadata": {},
     "output_type": "execute_result"
    },
    {
     "data": {
      "image/png": "[encoded data removed]",
      "text/plain": [
       "<Figure size 432x288 with 1 Axes>"
      ]
     },
     "metadata": {
      "needs_background": "light"
     },
     "output_type": "display_data"
    }
   ],
   "source": [
    "def calculate_metrics(variable_to_predict, df):\n",
    "    df = df[df['prediction'].notna()]\n",
    "    return (math.sqrt(mean_squared_error(df[variable_to_predict], df['prediction'])),\n",
    "            math.sqrt(mean_squared_log_error(df[variable_to_predict]+1, df['prediction']+1)))\n",
    "\n",
    "def experiment(percentage_of_training_cases,\n",
    "         variable_to_predict,\n",
    "         variables_to_study,\n",
    "         seed, \n",
    "         df_old,\n",
    "         data):\n",
    "    df = df_old.copy(deep=True)\n",
    "    \n",
    "    t0 = time.time()\n",
    "    \n",
    "    TOTAL_TRAIN_CASES = int(percentage_of_training_cases*len(df))\n",
    "\n",
    "    df = df[0:].sample(frac=1, random_state=seed)\n",
    "    \n",
    "    df_prediction = df[TOTAL_TRAIN_CASES:].copy(deep=True)\n",
    "\n",
    "    df = df[:TOTAL_TRAIN_CASES]\n",
    "    \n",
    "    x_train, y_train = df[variables_to_study].values, df[variable_to_predict].values\n",
    "    x_predict, y_predict = df_prediction[variables_to_study].values, df_prediction[variable_to_predict].values\n",
    "    \n",
    "    x_train = x_train.reshape(len(x_train),len(variables_to_study))\n",
    "    y_train = y_train.reshape(len(y_train),1)\n",
    "    x_predict = x_predict.reshape(len(x_predict),len(variables_to_study))\n",
    "    y_predict = y_predict.reshape(len(y_predict),1)\n",
    "\n",
    "    linear_regressor = metnum.LinearRegression()\n",
    "    linear_regressor.fit(x_train, y_train)\n",
    "    df_prediction['prediction'] = linear_regressor.predict(x_predict)\n",
    "\n",
    "    t1 = time.time()\n",
    "    total_time = (t1-t0)\n",
    "    \n",
    "    rmse, rmsle = calculate_metrics(variable_to_predict, df_prediction)\n",
    "    data['rmse'].append(rmse)\n",
    "    data['rmsle'].append(rmsle)\n",
    "    data['percentage_of_train_cases'].append(percentage_of_training_cases)\n",
    "    data['time'].append(total_time)\n",
    "    \n",
    "    if(len(variables_to_study)==1):\n",
    "        sns.scatterplot(data=df, x=variables_to_study[0], y=variable_to_predict)\n",
    "        sns.lineplot(data=df_prediction, x=variables_to_study[0], y='prediction', color='red')\n",
    "    elif(len(variables_to_study)==2):\n",
    "        fig = plt.figure(figsize=(20,10))\n",
    "        ax = fig.gca(projection='3d')\n",
    "        ax.set_xlabel('X', fontsize=15, rotation=150)\n",
    "        ax.set_ylabel('Y')\n",
    "        ax.set_zlabel(r'Z', fontsize=15)\n",
    "        ax.scatter(df_prediction[variables_to_study[0]],\n",
    "                   df_prediction[variables_to_study[1]],\n",
    "                   df_prediction['prediction'], c='skyblue', s=60)\n",
    "        ax.plot_trisurf(df_prediction[variables_to_study[0]], \n",
    "                        df_prediction[variables_to_study[1]], \n",
    "                        df_prediction['prediction'], cmap=plt.cm.viridis, linewidth=0.2)\n",
    "        plt.show()\n",
    "    return df_prediction\n",
    "    \n",
    "\n",
    "variable_to_predict = 'precio'\n",
    "#variables_to_study = ['metroscubiertos','metrostotales','banos']\n",
    "#variables_to_study = ['habitaciones','gimnasio','usosmultiples']\n",
    "#variables_to_study = ['jacuzzi','piscina','gimnasio']\n",
    "#variables_to_study = ['antiguedad','metroscubiertos','centroscomercialescercanos']\n",
    "#variables_to_study = ['antiguedad']\n",
    "#variables_to_study = ['metroscubiertos']\n",
    "#variables_to_study = ['metrostotales']\n",
    "#variables_to_study = ['antiguedad', 'banos', 'metroscubiertos', 'metrostotales', 'habitaciones', 'jacuzzi', \n",
    "#                     'centroscomercialescercanos', 'gimnasio', 'garages', 'usosmultiples', 'escuelascercanas', 'piscina']\n",
    "variables_to_study = ['banos']\n",
    "\n",
    "#cleanup\n",
    "df = df[df[variable_to_predict].notna()]\n",
    "for var in variables_to_study:\n",
    "    df = df[df[var].notna()]\n",
    "\n",
    "\n",
    "# df['centroscomercialescercanos'].hist()\n",
    "\n",
    "d = {'rmse' : [], 'rmsle' : [], 'percentage_of_train_cases' : [], 'time' : []}\n",
    "\n",
    "\n",
    "df_prediction_comodo = experiment(0.8, variable_to_predict, variables_to_study, 666, df, d)\n",
    "    \n",
    "d   "
   ]
  }
 ],
 "metadata": {
  "kernelspec": {
   "display_name": "Python 3",
   "language": "python",
   "name": "python3"
  },
  "language_info": {
   "codemirror_mode": {
    "name": "ipython",
    "version": 3
   },
   "file_extension": ".py",
   "mimetype": "text/x-python",
   "name": "python",
   "nbconvert_exporter": "python",
   "pygments_lexer": "ipython3",
   "version": "3.8.2"
  }
 },
 "nbformat": 4,
 "nbformat_minor": 4
}
