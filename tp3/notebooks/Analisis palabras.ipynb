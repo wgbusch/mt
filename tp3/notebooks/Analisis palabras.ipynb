{
 "cells": [
  {
   "cell_type": "code",
   "execution_count": 1,
   "metadata": {},
   "outputs": [],
   "source": [
    "import pandas as pd\n",
    "import numpy as np\n",
    "import sys\n",
    "reload(sys)\n",
    "sys.setdefaultencoding('utf-8')\n",
    "import seaborn as sns\n",
    "import matplotlib.pyplot as plt\n",
    "from wordcloud import WordCloud, STOPWORDS, ImageColorGenerator\n",
    "pd.options.display.max_columns = 500 # this will set limit of columns to 500\n",
    "import re"
   ]
  },
  {
   "cell_type": "code",
   "execution_count": 183,
   "metadata": {},
   "outputs": [],
   "source": [
    "df = pd.read_csv('../data/trainc.csv',encoding='utf8')"
   ]
  },
  {
   "cell_type": "code",
   "execution_count": 3,
   "metadata": {},
   "outputs": [
    {
     "data": {
      "text/html": [
       "<div>\n",
       "<style scoped>\n",
       "    .dataframe tbody tr th:only-of-type {\n",
       "        vertical-align: middle;\n",
       "    }\n",
       "\n",
       "    .dataframe tbody tr th {\n",
       "        vertical-align: top;\n",
       "    }\n",
       "\n",
       "    .dataframe thead th {\n",
       "        text-align: right;\n",
       "    }\n",
       "</style>\n",
       "<table border=\"1\" class=\"dataframe\">\n",
       "  <thead>\n",
       "    <tr style=\"text-align: right;\">\n",
       "      <th></th>\n",
       "      <th>id</th>\n",
       "      <th>titulo</th>\n",
       "      <th>descripcion</th>\n",
       "      <th>tipodepropiedad</th>\n",
       "      <th>direccion</th>\n",
       "      <th>ciudad</th>\n",
       "      <th>provincia</th>\n",
       "      <th>antiguedad</th>\n",
       "      <th>habitaciones</th>\n",
       "      <th>garages</th>\n",
       "      <th>banos</th>\n",
       "      <th>metroscubiertos</th>\n",
       "      <th>metrostotales</th>\n",
       "      <th>idzona</th>\n",
       "      <th>lat</th>\n",
       "      <th>lng</th>\n",
       "      <th>fecha</th>\n",
       "      <th>gimnasio</th>\n",
       "      <th>usosmultiples</th>\n",
       "      <th>piscina</th>\n",
       "      <th>escuelascercanas</th>\n",
       "      <th>centroscomercialescercanos</th>\n",
       "      <th>precio</th>\n",
       "      <th>Unnamed: 23</th>\n",
       "      <th>Unnamed: 24</th>\n",
       "      <th>Unnamed: 25</th>\n",
       "      <th>Unnamed: 26</th>\n",
       "      <th>Unnamed: 27</th>\n",
       "      <th>Unnamed: 28</th>\n",
       "      <th>Unnamed: 29</th>\n",
       "      <th>Unnamed: 30</th>\n",
       "      <th>Unnamed: 31</th>\n",
       "      <th>Unnamed: 32</th>\n",
       "      <th>Unnamed: 33</th>\n",
       "      <th>Unnamed: 34</th>\n",
       "      <th>Unnamed: 35</th>\n",
       "      <th>Unnamed: 36</th>\n",
       "      <th>Unnamed: 37</th>\n",
       "      <th>Unnamed: 38</th>\n",
       "      <th>Unnamed: 39</th>\n",
       "      <th>Unnamed: 40</th>\n",
       "      <th>Unnamed: 41</th>\n",
       "      <th>Unnamed: 42</th>\n",
       "      <th>Unnamed: 43</th>\n",
       "      <th>Unnamed: 44</th>\n",
       "      <th>Unnamed: 45</th>\n",
       "      <th>Unnamed: 46</th>\n",
       "      <th>Unnamed: 47</th>\n",
       "      <th>Unnamed: 48</th>\n",
       "      <th>Unnamed: 49</th>\n",
       "      <th>Unnamed: 50</th>\n",
       "      <th>Unnamed: 51</th>\n",
       "      <th>Unnamed: 52</th>\n",
       "      <th>Unnamed: 53</th>\n",
       "      <th>Unnamed: 54</th>\n",
       "      <th>Unnamed: 55</th>\n",
       "      <th>Unnamed: 56</th>\n",
       "      <th>Unnamed: 57</th>\n",
       "      <th>Unnamed: 58</th>\n",
       "      <th>Unnamed: 59</th>\n",
       "      <th>Unnamed: 60</th>\n",
       "      <th>Unnamed: 61</th>\n",
       "      <th>Unnamed: 62</th>\n",
       "      <th>Unnamed: 63</th>\n",
       "      <th>Unnamed: 64</th>\n",
       "      <th>Unnamed: 65</th>\n",
       "      <th>Unnamed: 66</th>\n",
       "      <th>Unnamed: 67</th>\n",
       "      <th>Unnamed: 68</th>\n",
       "      <th>Unnamed: 69</th>\n",
       "      <th>Unnamed: 70</th>\n",
       "      <th>Unnamed: 71</th>\n",
       "      <th>Unnamed: 72</th>\n",
       "      <th>Unnamed: 73</th>\n",
       "      <th>Unnamed: 74</th>\n",
       "      <th>Unnamed: 75</th>\n",
       "      <th>Unnamed: 76</th>\n",
       "      <th>Unnamed: 77</th>\n",
       "      <th>Unnamed: 78</th>\n",
       "      <th>Unnamed: 79</th>\n",
       "      <th>Unnamed: 80</th>\n",
       "      <th>Unnamed: 81</th>\n",
       "      <th>Unnamed: 82</th>\n",
       "      <th>Unnamed: 83</th>\n",
       "      <th>Unnamed: 84</th>\n",
       "      <th>Unnamed: 85</th>\n",
       "      <th>Unnamed: 86</th>\n",
       "      <th>Unnamed: 87</th>\n",
       "      <th>Unnamed: 88</th>\n",
       "      <th>Unnamed: 89</th>\n",
       "      <th>Unnamed: 90</th>\n",
       "      <th>Unnamed: 91</th>\n",
       "      <th>Unnamed: 92</th>\n",
       "      <th>Unnamed: 93</th>\n",
       "      <th>Unnamed: 94</th>\n",
       "      <th>Unnamed: 95</th>\n",
       "      <th>Unnamed: 96</th>\n",
       "      <th>Unnamed: 97</th>\n",
       "    </tr>\n",
       "  </thead>\n",
       "  <tbody>\n",
       "    <tr>\n",
       "      <th>0</th>\n",
       "      <td>254099</td>\n",
       "      <td>depto. tipo a-402</td>\n",
       "      <td>depto. interior de 80.15m2, consta de sala com...</td>\n",
       "      <td>Apartamento</td>\n",
       "      <td>Avenida Division del Norte 2005</td>\n",
       "      <td>Benito Juárez</td>\n",
       "      <td>Distrito Federal</td>\n",
       "      <td>NaN</td>\n",
       "      <td>2.0</td>\n",
       "      <td>1.0</td>\n",
       "      <td>2.0</td>\n",
       "      <td>80.0</td>\n",
       "      <td>80.0</td>\n",
       "      <td>23533.0</td>\n",
       "      <td>NaN</td>\n",
       "      <td>NaN</td>\n",
       "      <td>2015-08-23 00:00:00</td>\n",
       "      <td>0.0</td>\n",
       "      <td>0.0</td>\n",
       "      <td>0.0</td>\n",
       "      <td>0.0</td>\n",
       "      <td>0.0</td>\n",
       "      <td>2273000.0</td>\n",
       "      <td>NaN</td>\n",
       "      <td>NaN</td>\n",
       "      <td>NaN</td>\n",
       "      <td>NaN</td>\n",
       "      <td>NaN</td>\n",
       "      <td>NaN</td>\n",
       "      <td>NaN</td>\n",
       "      <td>NaN</td>\n",
       "      <td>NaN</td>\n",
       "      <td>NaN</td>\n",
       "      <td>NaN</td>\n",
       "      <td>NaN</td>\n",
       "      <td>NaN</td>\n",
       "      <td>NaN</td>\n",
       "      <td>NaN</td>\n",
       "      <td>NaN</td>\n",
       "      <td>NaN</td>\n",
       "      <td>NaN</td>\n",
       "      <td>NaN</td>\n",
       "      <td>NaN</td>\n",
       "      <td>NaN</td>\n",
       "      <td>NaN</td>\n",
       "      <td>NaN</td>\n",
       "      <td>NaN</td>\n",
       "      <td>NaN</td>\n",
       "      <td>NaN</td>\n",
       "      <td>NaN</td>\n",
       "      <td>NaN</td>\n",
       "      <td>NaN</td>\n",
       "      <td>NaN</td>\n",
       "      <td>NaN</td>\n",
       "      <td>NaN</td>\n",
       "      <td>NaN</td>\n",
       "      <td>NaN</td>\n",
       "      <td>NaN</td>\n",
       "      <td>NaN</td>\n",
       "      <td>NaN</td>\n",
       "      <td>NaN</td>\n",
       "      <td>NaN</td>\n",
       "      <td>NaN</td>\n",
       "      <td>NaN</td>\n",
       "      <td>NaN</td>\n",
       "      <td>NaN</td>\n",
       "      <td>NaN</td>\n",
       "      <td>NaN</td>\n",
       "      <td>NaN</td>\n",
       "      <td>NaN</td>\n",
       "      <td>NaN</td>\n",
       "      <td>NaN</td>\n",
       "      <td>NaN</td>\n",
       "      <td>NaN</td>\n",
       "      <td>NaN</td>\n",
       "      <td>NaN</td>\n",
       "      <td>NaN</td>\n",
       "      <td>NaN</td>\n",
       "      <td>NaN</td>\n",
       "      <td>NaN</td>\n",
       "      <td>NaN</td>\n",
       "      <td>NaN</td>\n",
       "      <td>NaN</td>\n",
       "      <td>NaN</td>\n",
       "      <td>NaN</td>\n",
       "      <td>NaN</td>\n",
       "      <td>NaN</td>\n",
       "      <td>NaN</td>\n",
       "      <td>NaN</td>\n",
       "      <td>NaN</td>\n",
       "      <td>NaN</td>\n",
       "      <td>NaN</td>\n",
       "      <td>NaN</td>\n",
       "      <td>NaN</td>\n",
       "      <td>NaN</td>\n",
       "      <td>NaN</td>\n",
       "      <td>NaN</td>\n",
       "      <td>NaN</td>\n",
       "    </tr>\n",
       "    <tr>\n",
       "      <th>1</th>\n",
       "      <td>53461</td>\n",
       "      <td>condominio horizontal en venta</td>\n",
       "      <td>&lt;p&gt;entre sonora y guerrero, atr&amp;aacute;s del h...</td>\n",
       "      <td>Casa en condominio</td>\n",
       "      <td>AV. MEXICO</td>\n",
       "      <td>La Magdalena Contreras</td>\n",
       "      <td>Distrito Federal</td>\n",
       "      <td>10.0</td>\n",
       "      <td>3.0</td>\n",
       "      <td>2.0</td>\n",
       "      <td>2.0</td>\n",
       "      <td>268.0</td>\n",
       "      <td>180.0</td>\n",
       "      <td>24514.0</td>\n",
       "      <td>19.3102045</td>\n",
       "      <td>-99.2276548</td>\n",
       "      <td>2013-06-28 00:00:00</td>\n",
       "      <td>0.0</td>\n",
       "      <td>0.0</td>\n",
       "      <td>0.0</td>\n",
       "      <td>1.0</td>\n",
       "      <td>1.0</td>\n",
       "      <td>3600000.0</td>\n",
       "      <td>NaN</td>\n",
       "      <td>NaN</td>\n",
       "      <td>NaN</td>\n",
       "      <td>NaN</td>\n",
       "      <td>NaN</td>\n",
       "      <td>NaN</td>\n",
       "      <td>NaN</td>\n",
       "      <td>NaN</td>\n",
       "      <td>NaN</td>\n",
       "      <td>NaN</td>\n",
       "      <td>NaN</td>\n",
       "      <td>NaN</td>\n",
       "      <td>NaN</td>\n",
       "      <td>NaN</td>\n",
       "      <td>NaN</td>\n",
       "      <td>NaN</td>\n",
       "      <td>NaN</td>\n",
       "      <td>NaN</td>\n",
       "      <td>NaN</td>\n",
       "      <td>NaN</td>\n",
       "      <td>NaN</td>\n",
       "      <td>NaN</td>\n",
       "      <td>NaN</td>\n",
       "      <td>NaN</td>\n",
       "      <td>NaN</td>\n",
       "      <td>NaN</td>\n",
       "      <td>NaN</td>\n",
       "      <td>NaN</td>\n",
       "      <td>NaN</td>\n",
       "      <td>NaN</td>\n",
       "      <td>NaN</td>\n",
       "      <td>NaN</td>\n",
       "      <td>NaN</td>\n",
       "      <td>NaN</td>\n",
       "      <td>NaN</td>\n",
       "      <td>NaN</td>\n",
       "      <td>NaN</td>\n",
       "      <td>NaN</td>\n",
       "      <td>NaN</td>\n",
       "      <td>NaN</td>\n",
       "      <td>NaN</td>\n",
       "      <td>NaN</td>\n",
       "      <td>NaN</td>\n",
       "      <td>NaN</td>\n",
       "      <td>NaN</td>\n",
       "      <td>NaN</td>\n",
       "      <td>NaN</td>\n",
       "      <td>NaN</td>\n",
       "      <td>NaN</td>\n",
       "      <td>NaN</td>\n",
       "      <td>NaN</td>\n",
       "      <td>NaN</td>\n",
       "      <td>NaN</td>\n",
       "      <td>NaN</td>\n",
       "      <td>NaN</td>\n",
       "      <td>NaN</td>\n",
       "      <td>NaN</td>\n",
       "      <td>NaN</td>\n",
       "      <td>NaN</td>\n",
       "      <td>NaN</td>\n",
       "      <td>NaN</td>\n",
       "      <td>NaN</td>\n",
       "      <td>NaN</td>\n",
       "      <td>NaN</td>\n",
       "      <td>NaN</td>\n",
       "      <td>NaN</td>\n",
       "      <td>NaN</td>\n",
       "      <td>NaN</td>\n",
       "      <td>NaN</td>\n",
       "      <td>NaN</td>\n",
       "      <td>NaN</td>\n",
       "      <td>NaN</td>\n",
       "      <td>NaN</td>\n",
       "      <td>NaN</td>\n",
       "      <td>NaN</td>\n",
       "    </tr>\n",
       "    <tr>\n",
       "      <th>2</th>\n",
       "      <td>247984</td>\n",
       "      <td>casa en venta urbi 3 recamaras tonala</td>\n",
       "      <td>descripcion \\nla mejor ubicacion residencial e...</td>\n",
       "      <td>Casa</td>\n",
       "      <td>Urbi Tonala</td>\n",
       "      <td>Tonalá</td>\n",
       "      <td>Jalisco</td>\n",
       "      <td>5.0</td>\n",
       "      <td>3.0</td>\n",
       "      <td>2.0</td>\n",
       "      <td>2.0</td>\n",
       "      <td>144.0</td>\n",
       "      <td>166.0</td>\n",
       "      <td>48551.0</td>\n",
       "      <td>NaN</td>\n",
       "      <td>NaN</td>\n",
       "      <td>2015-10-17 00:00:00</td>\n",
       "      <td>0.0</td>\n",
       "      <td>0.0</td>\n",
       "      <td>0.0</td>\n",
       "      <td>0.0</td>\n",
       "      <td>0.0</td>\n",
       "      <td>1200000.0</td>\n",
       "      <td>NaN</td>\n",
       "      <td>NaN</td>\n",
       "      <td>NaN</td>\n",
       "      <td>NaN</td>\n",
       "      <td>NaN</td>\n",
       "      <td>NaN</td>\n",
       "      <td>NaN</td>\n",
       "      <td>NaN</td>\n",
       "      <td>NaN</td>\n",
       "      <td>NaN</td>\n",
       "      <td>NaN</td>\n",
       "      <td>NaN</td>\n",
       "      <td>NaN</td>\n",
       "      <td>NaN</td>\n",
       "      <td>NaN</td>\n",
       "      <td>NaN</td>\n",
       "      <td>NaN</td>\n",
       "      <td>NaN</td>\n",
       "      <td>NaN</td>\n",
       "      <td>NaN</td>\n",
       "      <td>NaN</td>\n",
       "      <td>NaN</td>\n",
       "      <td>NaN</td>\n",
       "      <td>NaN</td>\n",
       "      <td>NaN</td>\n",
       "      <td>NaN</td>\n",
       "      <td>NaN</td>\n",
       "      <td>NaN</td>\n",
       "      <td>NaN</td>\n",
       "      <td>NaN</td>\n",
       "      <td>NaN</td>\n",
       "      <td>NaN</td>\n",
       "      <td>NaN</td>\n",
       "      <td>NaN</td>\n",
       "      <td>NaN</td>\n",
       "      <td>NaN</td>\n",
       "      <td>NaN</td>\n",
       "      <td>NaN</td>\n",
       "      <td>NaN</td>\n",
       "      <td>NaN</td>\n",
       "      <td>NaN</td>\n",
       "      <td>NaN</td>\n",
       "      <td>NaN</td>\n",
       "      <td>NaN</td>\n",
       "      <td>NaN</td>\n",
       "      <td>NaN</td>\n",
       "      <td>NaN</td>\n",
       "      <td>NaN</td>\n",
       "      <td>NaN</td>\n",
       "      <td>NaN</td>\n",
       "      <td>NaN</td>\n",
       "      <td>NaN</td>\n",
       "      <td>NaN</td>\n",
       "      <td>NaN</td>\n",
       "      <td>NaN</td>\n",
       "      <td>NaN</td>\n",
       "      <td>NaN</td>\n",
       "      <td>NaN</td>\n",
       "      <td>NaN</td>\n",
       "      <td>NaN</td>\n",
       "      <td>NaN</td>\n",
       "      <td>NaN</td>\n",
       "      <td>NaN</td>\n",
       "      <td>NaN</td>\n",
       "      <td>NaN</td>\n",
       "      <td>NaN</td>\n",
       "      <td>NaN</td>\n",
       "      <td>NaN</td>\n",
       "      <td>NaN</td>\n",
       "      <td>NaN</td>\n",
       "      <td>NaN</td>\n",
       "      <td>NaN</td>\n",
       "      <td>NaN</td>\n",
       "      <td>NaN</td>\n",
       "      <td>NaN</td>\n",
       "    </tr>\n",
       "  </tbody>\n",
       "</table>\n",
       "</div>"
      ],
      "text/plain": [
       "       id                                 titulo  \\\n",
       "0  254099                      depto. tipo a-402   \n",
       "1   53461         condominio horizontal en venta   \n",
       "2  247984  casa en venta urbi 3 recamaras tonala   \n",
       "\n",
       "                                         descripcion     tipodepropiedad  \\\n",
       "0  depto. interior de 80.15m2, consta de sala com...         Apartamento   \n",
       "1  <p>entre sonora y guerrero, atr&aacute;s del h...  Casa en condominio   \n",
       "2  descripcion \\nla mejor ubicacion residencial e...                Casa   \n",
       "\n",
       "                         direccion                  ciudad         provincia  \\\n",
       "0  Avenida Division del Norte 2005           Benito Juárez  Distrito Federal   \n",
       "1                       AV. MEXICO  La Magdalena Contreras  Distrito Federal   \n",
       "2                      Urbi Tonala                  Tonalá           Jalisco   \n",
       "\n",
       "  antiguedad habitaciones garages banos metroscubiertos metrostotales  \\\n",
       "0        NaN          2.0     1.0   2.0            80.0          80.0   \n",
       "1       10.0          3.0     2.0   2.0           268.0         180.0   \n",
       "2        5.0          3.0     2.0   2.0           144.0         166.0   \n",
       "\n",
       "    idzona         lat          lng                fecha gimnasio  \\\n",
       "0  23533.0         NaN          NaN  2015-08-23 00:00:00      0.0   \n",
       "1  24514.0  19.3102045  -99.2276548  2013-06-28 00:00:00      0.0   \n",
       "2  48551.0         NaN          NaN  2015-10-17 00:00:00      0.0   \n",
       "\n",
       "  usosmultiples piscina escuelascercanas centroscomercialescercanos  \\\n",
       "0           0.0     0.0              0.0                        0.0   \n",
       "1           0.0     0.0              1.0                        1.0   \n",
       "2           0.0     0.0              0.0                        0.0   \n",
       "\n",
       "      precio Unnamed: 23 Unnamed: 24 Unnamed: 25 Unnamed: 26 Unnamed: 27  \\\n",
       "0  2273000.0         NaN         NaN         NaN         NaN         NaN   \n",
       "1  3600000.0         NaN         NaN         NaN         NaN         NaN   \n",
       "2  1200000.0         NaN         NaN         NaN         NaN         NaN   \n",
       "\n",
       "  Unnamed: 28 Unnamed: 29 Unnamed: 30 Unnamed: 31 Unnamed: 32 Unnamed: 33  \\\n",
       "0         NaN         NaN         NaN         NaN         NaN         NaN   \n",
       "1         NaN         NaN         NaN         NaN         NaN         NaN   \n",
       "2         NaN         NaN         NaN         NaN         NaN         NaN   \n",
       "\n",
       "  Unnamed: 34 Unnamed: 35 Unnamed: 36 Unnamed: 37 Unnamed: 38 Unnamed: 39  \\\n",
       "0         NaN         NaN         NaN         NaN         NaN         NaN   \n",
       "1         NaN         NaN         NaN         NaN         NaN         NaN   \n",
       "2         NaN         NaN         NaN         NaN         NaN         NaN   \n",
       "\n",
       "  Unnamed: 40 Unnamed: 41 Unnamed: 42 Unnamed: 43 Unnamed: 44 Unnamed: 45  \\\n",
       "0         NaN         NaN         NaN         NaN         NaN         NaN   \n",
       "1         NaN         NaN         NaN         NaN         NaN         NaN   \n",
       "2         NaN         NaN         NaN         NaN         NaN         NaN   \n",
       "\n",
       "  Unnamed: 46 Unnamed: 47 Unnamed: 48 Unnamed: 49 Unnamed: 50 Unnamed: 51  \\\n",
       "0         NaN         NaN         NaN         NaN         NaN         NaN   \n",
       "1         NaN         NaN         NaN         NaN         NaN         NaN   \n",
       "2         NaN         NaN         NaN         NaN         NaN         NaN   \n",
       "\n",
       "  Unnamed: 52 Unnamed: 53 Unnamed: 54 Unnamed: 55 Unnamed: 56 Unnamed: 57  \\\n",
       "0         NaN         NaN         NaN         NaN         NaN         NaN   \n",
       "1         NaN         NaN         NaN         NaN         NaN         NaN   \n",
       "2         NaN         NaN         NaN         NaN         NaN         NaN   \n",
       "\n",
       "  Unnamed: 58 Unnamed: 59 Unnamed: 60 Unnamed: 61 Unnamed: 62 Unnamed: 63  \\\n",
       "0         NaN         NaN         NaN         NaN         NaN         NaN   \n",
       "1         NaN         NaN         NaN         NaN         NaN         NaN   \n",
       "2         NaN         NaN         NaN         NaN         NaN         NaN   \n",
       "\n",
       "  Unnamed: 64 Unnamed: 65 Unnamed: 66 Unnamed: 67 Unnamed: 68 Unnamed: 69  \\\n",
       "0         NaN         NaN         NaN         NaN         NaN         NaN   \n",
       "1         NaN         NaN         NaN         NaN         NaN         NaN   \n",
       "2         NaN         NaN         NaN         NaN         NaN         NaN   \n",
       "\n",
       "  Unnamed: 70 Unnamed: 71 Unnamed: 72 Unnamed: 73 Unnamed: 74 Unnamed: 75  \\\n",
       "0         NaN         NaN         NaN         NaN         NaN         NaN   \n",
       "1         NaN         NaN         NaN         NaN         NaN         NaN   \n",
       "2         NaN         NaN         NaN         NaN         NaN         NaN   \n",
       "\n",
       "  Unnamed: 76  Unnamed: 77 Unnamed: 78  Unnamed: 79 Unnamed: 80 Unnamed: 81  \\\n",
       "0         NaN          NaN         NaN          NaN         NaN         NaN   \n",
       "1         NaN          NaN         NaN          NaN         NaN         NaN   \n",
       "2         NaN          NaN         NaN          NaN         NaN         NaN   \n",
       "\n",
       "  Unnamed: 82  Unnamed: 83  Unnamed: 84 Unnamed: 85  Unnamed: 86  Unnamed: 87  \\\n",
       "0         NaN          NaN          NaN         NaN          NaN          NaN   \n",
       "1         NaN          NaN          NaN         NaN          NaN          NaN   \n",
       "2         NaN          NaN          NaN         NaN          NaN          NaN   \n",
       "\n",
       "   Unnamed: 88  Unnamed: 89  Unnamed: 90 Unnamed: 91  Unnamed: 92  \\\n",
       "0          NaN          NaN          NaN         NaN          NaN   \n",
       "1          NaN          NaN          NaN         NaN          NaN   \n",
       "2          NaN          NaN          NaN         NaN          NaN   \n",
       "\n",
       "   Unnamed: 93  Unnamed: 94  Unnamed: 95  Unnamed: 96  Unnamed: 97  \n",
       "0          NaN          NaN          NaN          NaN          NaN  \n",
       "1          NaN          NaN          NaN          NaN          NaN  \n",
       "2          NaN          NaN          NaN          NaN          NaN  "
      ]
     },
     "execution_count": 3,
     "metadata": {},
     "output_type": "execute_result"
    }
   ],
   "source": [
    "df.head(3)"
   ]
  },
  {
   "cell_type": "code",
   "execution_count": 4,
   "metadata": {},
   "outputs": [],
   "source": [
    "df2 = df[['id','descripcion']]"
   ]
  },
  {
   "cell_type": "code",
   "execution_count": 5,
   "metadata": {},
   "outputs": [],
   "source": [
    "df2 = df2.dropna()"
   ]
  },
  {
   "cell_type": "markdown",
   "metadata": {},
   "source": [
    "# Realizamos Word Cloud para ver frecuencia de los terminos "
   ]
  },
  {
   "cell_type": "code",
   "execution_count": 6,
   "metadata": {},
   "outputs": [],
   "source": [
    "comment_words = '' \n",
    "stopwords = set(STOPWORDS)"
   ]
  },
  {
   "cell_type": "code",
   "execution_count": 7,
   "metadata": {},
   "outputs": [],
   "source": [
    "words = []\n",
    "\n",
    "for index,row in df2.iterrows():\n",
    "    # typecaste each val to string \n",
    "    val = row.descripcion\n",
    "  \n",
    "    # split the value \n",
    "    tokens = val.split() \n",
    "      \n",
    "    # Converts each token into lowercase \n",
    "    for i in range(len(tokens)): \n",
    "        tokens[i] = tokens[i].lower() \n",
    "      \n",
    "    comment_words += \" \".join(tokens)+\" \""
   ]
  },
  {
   "cell_type": "code",
   "execution_count": 8,
   "metadata": {},
   "outputs": [
    {
     "data": {
      "text/plain": [
       "98504582"
      ]
     },
     "execution_count": 8,
     "metadata": {},
     "output_type": "execute_result"
    }
   ],
   "source": [
    "len(comment_words)"
   ]
  },
  {
   "cell_type": "code",
   "execution_count": 10,
   "metadata": {},
   "outputs": [
    {
     "data": {
      "image/png": "[encoded data removed]",
      "text/plain": [
       "<Figure size 576x576 with 1 Axes>"
      ]
     },
     "metadata": {
      "needs_background": "light"
     },
     "output_type": "display_data"
    }
   ],
   "source": [
    "wordcloud = WordCloud(width = 1600, height = 1600, \n",
    "                background_color ='white', \n",
    "                stopwords = stopwords,\n",
    "                font_path='../data/arial.ttf',\n",
    "                min_font_size = 10).generate(comment_words) \n",
    "  \n",
    "# plot the WordCloud image                        \n",
    "plt.figure(figsize = (8, 8), facecolor = None) \n",
    "plt.imshow(wordcloud) \n",
    "plt.axis(\"off\") \n",
    "plt.tight_layout(pad = 0) \n",
    "plt.savefig('words.png')\n",
    "plt.show() "
   ]
  },
  {
   "cell_type": "markdown",
   "metadata": {},
   "source": [
    "# Realizamos analisis de terminos para todas las provincias "
   ]
  },
  {
   "cell_type": "code",
   "execution_count": 182,
   "metadata": {},
   "outputs": [],
   "source": [
    "import pandas\n",
    "from sklearn.feature_extraction.text import TfidfVectorizer\n",
    "from sklearn.feature_extraction import DictVectorizer\n",
    "from scipy.sparse import hstack\n",
    "from sklearn.linear_model import Ridge\n",
    "from util import get_errors"
   ]
  },
  {
   "cell_type": "code",
   "execution_count": 184,
   "metadata": {},
   "outputs": [
    {
     "data": {
      "text/html": [
       "<div>\n",
       "<style scoped>\n",
       "    .dataframe tbody tr th:only-of-type {\n",
       "        vertical-align: middle;\n",
       "    }\n",
       "\n",
       "    .dataframe tbody tr th {\n",
       "        vertical-align: top;\n",
       "    }\n",
       "\n",
       "    .dataframe thead th {\n",
       "        text-align: right;\n",
       "    }\n",
       "</style>\n",
       "<table border=\"1\" class=\"dataframe\">\n",
       "  <thead>\n",
       "    <tr style=\"text-align: right;\">\n",
       "      <th></th>\n",
       "      <th>id</th>\n",
       "      <th>descripcion</th>\n",
       "      <th>provincia</th>\n",
       "      <th>precio</th>\n",
       "    </tr>\n",
       "  </thead>\n",
       "  <tbody>\n",
       "    <tr>\n",
       "      <th>0</th>\n",
       "      <td>254099</td>\n",
       "      <td>depto. interior de 80.15m2, consta de sala com...</td>\n",
       "      <td>Distrito Federal</td>\n",
       "      <td>2273000.0</td>\n",
       "    </tr>\n",
       "    <tr>\n",
       "      <th>1</th>\n",
       "      <td>53461</td>\n",
       "      <td>&lt;p&gt;entre sonora y guerrero, atr&amp;aacute;s del h...</td>\n",
       "      <td>Distrito Federal</td>\n",
       "      <td>3600000.0</td>\n",
       "    </tr>\n",
       "    <tr>\n",
       "      <th>2</th>\n",
       "      <td>247984</td>\n",
       "      <td>descripcion \\nla mejor ubicacion residencial e...</td>\n",
       "      <td>Jalisco</td>\n",
       "      <td>1200000.0</td>\n",
       "    </tr>\n",
       "  </tbody>\n",
       "</table>\n",
       "</div>"
      ],
      "text/plain": [
       "       id                                        descripcion  \\\n",
       "0  254099  depto. interior de 80.15m2, consta de sala com...   \n",
       "1   53461  <p>entre sonora y guerrero, atr&aacute;s del h...   \n",
       "2  247984  descripcion \\nla mejor ubicacion residencial e...   \n",
       "\n",
       "          provincia     precio  \n",
       "0  Distrito Federal  2273000.0  \n",
       "1  Distrito Federal  3600000.0  \n",
       "2           Jalisco  1200000.0  "
      ]
     },
     "execution_count": 184,
     "metadata": {},
     "output_type": "execute_result"
    }
   ],
   "source": [
    "dfWords =df[['id','descripcion','provincia','precio']]\n",
    "dfWords.head(3)"
   ]
  },
  {
   "cell_type": "markdown",
   "metadata": {},
   "source": [
    "## Limpieza de datos"
   ]
  },
  {
   "cell_type": "code",
   "execution_count": 185,
   "metadata": {},
   "outputs": [],
   "source": [
    "#Limpiamos los datos borrando NaN y los precios que no son de tipo numerico.\n",
    "dfWords = dfWords.dropna()\n",
    "ro = []\n",
    "for index, row in dfWords.iterrows():\n",
    "    try:\n",
    "        t = float(row['precio'])\n",
    "    except:\n",
    "        ro.append(index)\n",
    "        \n",
    "dfWords=dfWords.drop(ro)"
   ]
  },
  {
   "cell_type": "code",
   "execution_count": 186,
   "metadata": {},
   "outputs": [],
   "source": [
    "# Separamos en Train/Test\n",
    "limit = int(0.85 * len(dfWords))\n",
    "train = dfWords[0:limit]\n",
    "test= dfWords[limit:]"
   ]
  },
  {
   "cell_type": "code",
   "execution_count": 187,
   "metadata": {},
   "outputs": [
    {
     "data": {
      "text/html": [
       "<div>\n",
       "<style scoped>\n",
       "    .dataframe tbody tr th:only-of-type {\n",
       "        vertical-align: middle;\n",
       "    }\n",
       "\n",
       "    .dataframe tbody tr th {\n",
       "        vertical-align: top;\n",
       "    }\n",
       "\n",
       "    .dataframe thead th {\n",
       "        text-align: right;\n",
       "    }\n",
       "</style>\n",
       "<table border=\"1\" class=\"dataframe\">\n",
       "  <thead>\n",
       "    <tr style=\"text-align: right;\">\n",
       "      <th></th>\n",
       "      <th>id</th>\n",
       "      <th>descripcion</th>\n",
       "      <th>provincia</th>\n",
       "      <th>precio</th>\n",
       "    </tr>\n",
       "  </thead>\n",
       "  <tbody>\n",
       "    <tr>\n",
       "      <th>204010</th>\n",
       "      <td>201241</td>\n",
       "      <td>&lt;p&gt;preciosos departamentos ubicados en sodzil ...</td>\n",
       "      <td>Yucatán</td>\n",
       "      <td>1050000.0</td>\n",
       "    </tr>\n",
       "    <tr>\n",
       "      <th>204011</th>\n",
       "      <td>216425</td>\n",
       "      <td>¡¡¡ estrene !!! condominio nuevo estilo minima...</td>\n",
       "      <td>Distrito Federal</td>\n",
       "      <td>3490000.0</td>\n",
       "    </tr>\n",
       "    <tr>\n",
       "      <th>204012</th>\n",
       "      <td>26156</td>\n",
       "      <td>-- rav01698n-108 --    deptos de primer nivel&amp;...</td>\n",
       "      <td>Distrito Federal</td>\n",
       "      <td>4468119.0</td>\n",
       "    </tr>\n",
       "  </tbody>\n",
       "</table>\n",
       "</div>"
      ],
      "text/plain": [
       "            id                                        descripcion  \\\n",
       "204010  201241  <p>preciosos departamentos ubicados en sodzil ...   \n",
       "204011  216425  ¡¡¡ estrene !!! condominio nuevo estilo minima...   \n",
       "204012   26156  -- rav01698n-108 --    deptos de primer nivel&...   \n",
       "\n",
       "               provincia     precio  \n",
       "204010           Yucatán  1050000.0  \n",
       "204011  Distrito Federal  3490000.0  \n",
       "204012  Distrito Federal  4468119.0  "
      ]
     },
     "execution_count": 187,
     "metadata": {},
     "output_type": "execute_result"
    }
   ],
   "source": [
    "test.head(3)"
   ]
  },
  {
   "cell_type": "markdown",
   "metadata": {},
   "source": [
    "## Preparamos el modelo "
   ]
  },
  {
   "cell_type": "code",
   "execution_count": 188,
   "metadata": {},
   "outputs": [
    {
     "data": {
      "text/html": [
       "<div>\n",
       "<style scoped>\n",
       "    .dataframe tbody tr th:only-of-type {\n",
       "        vertical-align: middle;\n",
       "    }\n",
       "\n",
       "    .dataframe tbody tr th {\n",
       "        vertical-align: top;\n",
       "    }\n",
       "\n",
       "    .dataframe thead th {\n",
       "        text-align: right;\n",
       "    }\n",
       "</style>\n",
       "<table border=\"1\" class=\"dataframe\">\n",
       "  <thead>\n",
       "    <tr style=\"text-align: right;\">\n",
       "      <th></th>\n",
       "      <th>id</th>\n",
       "      <th>descripcion</th>\n",
       "      <th>provincia</th>\n",
       "      <th>precio</th>\n",
       "    </tr>\n",
       "  </thead>\n",
       "  <tbody>\n",
       "    <tr>\n",
       "      <th>204010</th>\n",
       "      <td>201241</td>\n",
       "      <td>p preciosos departamentos ubicados en sodzil ...</td>\n",
       "      <td>Yucatán</td>\n",
       "      <td>0</td>\n",
       "    </tr>\n",
       "    <tr>\n",
       "      <th>204011</th>\n",
       "      <td>216425</td>\n",
       "      <td>estrene     condominio nuevo estilo minima...</td>\n",
       "      <td>Distrito Federal</td>\n",
       "      <td>0</td>\n",
       "    </tr>\n",
       "    <tr>\n",
       "      <th>204012</th>\n",
       "      <td>26156</td>\n",
       "      <td>rav01698n 108       deptos de primer nivel ...</td>\n",
       "      <td>Distrito Federal</td>\n",
       "      <td>0</td>\n",
       "    </tr>\n",
       "  </tbody>\n",
       "</table>\n",
       "</div>"
      ],
      "text/plain": [
       "            id                                        descripcion  \\\n",
       "204010  201241   p preciosos departamentos ubicados en sodzil ...   \n",
       "204011  216425      estrene     condominio nuevo estilo minima...   \n",
       "204012   26156     rav01698n 108       deptos de primer nivel ...   \n",
       "\n",
       "               provincia  precio  \n",
       "204010           Yucatán       0  \n",
       "204011  Distrito Federal       0  \n",
       "204012  Distrito Federal       0  "
      ]
     },
     "execution_count": 188,
     "metadata": {},
     "output_type": "execute_result"
    }
   ],
   "source": [
    "#Nos quedamos con las columnas que queremos usar\n",
    "test=test[['id','descripcion','provincia','precio']]\n",
    "test1 = test[['id','descripcion','provincia']]\n",
    "test1['precio']=0\n",
    "test1['descripcion']=test1['descripcion'].str.lower()\n",
    "test1['descripcion']=test1['descripcion'].replace('[^a-zA-Z0-9]', ' ', regex = True)\n",
    "test1.head(3)"
   ]
  },
  {
   "cell_type": "code",
   "execution_count": 189,
   "metadata": {},
   "outputs": [
    {
     "data": {
      "text/html": [
       "<div>\n",
       "<style scoped>\n",
       "    .dataframe tbody tr th:only-of-type {\n",
       "        vertical-align: middle;\n",
       "    }\n",
       "\n",
       "    .dataframe tbody tr th {\n",
       "        vertical-align: top;\n",
       "    }\n",
       "\n",
       "    .dataframe thead th {\n",
       "        text-align: right;\n",
       "    }\n",
       "</style>\n",
       "<table border=\"1\" class=\"dataframe\">\n",
       "  <thead>\n",
       "    <tr style=\"text-align: right;\">\n",
       "      <th></th>\n",
       "      <th>id</th>\n",
       "      <th>descripcion</th>\n",
       "      <th>provincia</th>\n",
       "      <th>precio</th>\n",
       "    </tr>\n",
       "  </thead>\n",
       "  <tbody>\n",
       "    <tr>\n",
       "      <th>0</th>\n",
       "      <td>254099</td>\n",
       "      <td>depto. interior de 80.15m2, consta de sala com...</td>\n",
       "      <td>Distrito Federal</td>\n",
       "      <td>2273000.0</td>\n",
       "    </tr>\n",
       "    <tr>\n",
       "      <th>1</th>\n",
       "      <td>53461</td>\n",
       "      <td>&lt;p&gt;entre sonora y guerrero, atr&amp;aacute;s del h...</td>\n",
       "      <td>Distrito Federal</td>\n",
       "      <td>3600000.0</td>\n",
       "    </tr>\n",
       "    <tr>\n",
       "      <th>2</th>\n",
       "      <td>247984</td>\n",
       "      <td>descripcion \\nla mejor ubicacion residencial e...</td>\n",
       "      <td>Jalisco</td>\n",
       "      <td>1200000.0</td>\n",
       "    </tr>\n",
       "  </tbody>\n",
       "</table>\n",
       "</div>"
      ],
      "text/plain": [
       "       id                                        descripcion  \\\n",
       "0  254099  depto. interior de 80.15m2, consta de sala com...   \n",
       "1   53461  <p>entre sonora y guerrero, atr&aacute;s del h...   \n",
       "2  247984  descripcion \\nla mejor ubicacion residencial e...   \n",
       "\n",
       "          provincia     precio  \n",
       "0  Distrito Federal  2273000.0  \n",
       "1  Distrito Federal  3600000.0  \n",
       "2           Jalisco  1200000.0  "
      ]
     },
     "execution_count": 189,
     "metadata": {},
     "output_type": "execute_result"
    }
   ],
   "source": [
    "train = train[['id','descripcion','provincia','precio']]\n",
    "train.head(3)"
   ]
  },
  {
   "cell_type": "code",
   "execution_count": 190,
   "metadata": {},
   "outputs": [
    {
     "data": {
      "text/plain": [
       "0         depto  interior de 80 15m2  consta de sala com...\n",
       "1          p entre sonora y guerrero  atr aacute s del h...\n",
       "2         descripcion  la mejor ubicacion residencial en...\n",
       "3         casa en privada con caseta de vigilancia casas...\n",
       "4         bonito departamento en excelentes condiciones ...\n",
       "5         amplio departamento  estancia de sala y comedo...\n",
       "6         ubicada en esquina  pertenece san lorenzo agen...\n",
       "7         casa emilia en venta playa del carmenfracciona...\n",
       "8          p pre venta de preciosos departamento ecologi...\n",
       "9         terreno de 5 500m2 bardeado  uso de suelo h 20...\n",
       "10                                               p mi 2 deg\n",
       "11        departamento nuevo  256 m2 de construccion un ...\n",
       "12         p  strong casa   strong en venta en fracciona...\n",
       "13        flamante casa habitaci n en condominio horizon...\n",
       "14        pre venta de residencia en la toscana con exce...\n",
       "15         p casa en dos niveles  3 rec maras la princip...\n",
       "17        magnifico departamento con excelente distribuc...\n",
       "18        terreno ubicado en bukara coto club  el cual s...\n",
       "19           rcv151104 lv 27       linda casa con area d...\n",
       "20         p excelente terreno plano  frente a parque en...\n",
       "21        nocnok id  mx15 bk0340  hermosa casa en conjun...\n",
       "22         p comoda casa con recamara en planta baja y a...\n",
       "23        casa en venta en cancun en residencial cumbres...\n",
       "24         p propiedad en un nivel  con espacios amplios...\n",
       "25        hermosa casa en santa cecilia en apodaca  cerc...\n",
       "26         excelente oportunidad     casa de un nivel en...\n",
       "27        hermosa casa remodelada  con acabados de lujo ...\n",
       "28        casa en coto 3 recamaras  estudio  sala comedo...\n",
       "29        en zona de urbanizaci n progresiva  terreno pl...\n",
       "30           hav1407e 285       excelente departamento e...\n",
       "                                ...                        \n",
       "203979    oportuinidad casa en el club de golf hacienda ...\n",
       "203980     de 2 niveles  planta baja  sala  comedor  coc...\n",
       "203982    excelente departamento consta de tres recamara...\n",
       "203983    con hermosos detalles de arquitectura y constr...\n",
       "203984     p terreno en ixtapa puerto vallarta  en la ca...\n",
       "203985    venta de casa en condominio  chinconcuac   mor...\n",
       "203986     p casa nueva muy amplia con estacionamiento c...\n",
       "203987     h4 descripci oacute n  h4   p amplio y bello ...\n",
       "203988    hermosa residencia nueva     con la mejor ubic...\n",
       "203989    excelente casa en venta en las lomas 2 plantas...\n",
       "203990    casa de un piso  2 recamaras amplias con close...\n",
       "203991    casa en venta en uman yucat n  casa sobre la a...\n",
       "203992    hermosas propiedades adjudicadas      excelent...\n",
       "203993       rcvirv        divina casa estilo rustico  m...\n",
       "203994    ubicadisimo edificio en el centro de san pablo...\n",
       "203995     p terreno a dos cuadras de la alameda y eje c...\n",
       "203996     p nuevo departamento en venta en contadero  l...\n",
       "203997     p desarrollo a tres cuadras del parque lincol...\n",
       "203998    2 recamaras  1 sanitario  sala cocina  garage ...\n",
       "203999    excelente propiedad en venta en zona con la me...\n",
       "204000    casa en muy buena ubicaci n  atr s de plaza q ...\n",
       "204001     p departamento en preventa en nbsp primer niv...\n",
       "204002    ultima oportunidad de compra residencial  bano...\n",
       "204003    casa en condominio con seguridad  3 recamaras ...\n",
       "204004    casa en venta de 2 niveles con opci n a crecer...\n",
       "204005     casa una planta loma dorada    excelente casa...\n",
       "204006    excepcional residencia ubicada en desarrollo r...\n",
       "204007    casa nueva de dos niveles lista para estrenars...\n",
       "204008    exclusiva casa en fracc  camino real  en muy b...\n",
       "204009    terreno 200 m2 en area plana  todos los servic...\n",
       "Name: descripcion, Length: 202317, dtype: object"
      ]
     },
     "execution_count": 190,
     "metadata": {},
     "output_type": "execute_result"
    }
   ],
   "source": [
    "# Limpiamos los datos, nos quedamos solo con los caracteres que nos interesan para que sea mas facil la separancion en palabras\n",
    "train['descripcion']=train['descripcion'].str.lower()\n",
    "train['descripcion'].replace('[^a-zA-Z0-9]', ' ', regex = True)"
   ]
  },
  {
   "cell_type": "code",
   "execution_count": 191,
   "metadata": {},
   "outputs": [
    {
     "data": {
      "text/html": [
       "<div>\n",
       "<style scoped>\n",
       "    .dataframe tbody tr th:only-of-type {\n",
       "        vertical-align: middle;\n",
       "    }\n",
       "\n",
       "    .dataframe tbody tr th {\n",
       "        vertical-align: top;\n",
       "    }\n",
       "\n",
       "    .dataframe thead th {\n",
       "        text-align: right;\n",
       "    }\n",
       "</style>\n",
       "<table border=\"1\" class=\"dataframe\">\n",
       "  <thead>\n",
       "    <tr style=\"text-align: right;\">\n",
       "      <th></th>\n",
       "      <th>id</th>\n",
       "      <th>descripcion</th>\n",
       "      <th>provincia</th>\n",
       "      <th>precio</th>\n",
       "    </tr>\n",
       "  </thead>\n",
       "  <tbody>\n",
       "    <tr>\n",
       "      <th>0</th>\n",
       "      <td>254099</td>\n",
       "      <td>depto. interior de 80.15m2, consta de sala com...</td>\n",
       "      <td>Distrito Federal</td>\n",
       "      <td>2273000.0</td>\n",
       "    </tr>\n",
       "    <tr>\n",
       "      <th>1</th>\n",
       "      <td>53461</td>\n",
       "      <td>&lt;p&gt;entre sonora y guerrero, atr&amp;aacute;s del h...</td>\n",
       "      <td>Distrito Federal</td>\n",
       "      <td>3600000.0</td>\n",
       "    </tr>\n",
       "    <tr>\n",
       "      <th>2</th>\n",
       "      <td>247984</td>\n",
       "      <td>descripcion \\nla mejor ubicacion residencial e...</td>\n",
       "      <td>Jalisco</td>\n",
       "      <td>1200000.0</td>\n",
       "    </tr>\n",
       "  </tbody>\n",
       "</table>\n",
       "</div>"
      ],
      "text/plain": [
       "       id                                        descripcion  \\\n",
       "0  254099  depto. interior de 80.15m2, consta de sala com...   \n",
       "1   53461  <p>entre sonora y guerrero, atr&aacute;s del h...   \n",
       "2  247984  descripcion \\nla mejor ubicacion residencial e...   \n",
       "\n",
       "          provincia     precio  \n",
       "0  Distrito Federal  2273000.0  \n",
       "1  Distrito Federal  3600000.0  \n",
       "2           Jalisco  1200000.0  "
      ]
     },
     "execution_count": 191,
     "metadata": {},
     "output_type": "execute_result"
    }
   ],
   "source": [
    "train.head(3)"
   ]
  },
  {
   "cell_type": "markdown",
   "metadata": {},
   "source": [
    "## Armamos el modelo "
   ]
  },
  {
   "cell_type": "code",
   "execution_count": 192,
   "metadata": {},
   "outputs": [],
   "source": [
    "vectorizer = TfidfVectorizer(min_df=5)\n",
    "X_tfidf = vectorizer.fit_transform(train['descripcion'])\n",
    "train['provincia'].fillna('nan', inplace=True)\n",
    "enc = DictVectorizer()\n",
    "X_train_categ = enc.fit_transform(train[['provincia']].to_dict('records'))\n",
    "\n",
    "# Take a sequence of arrays and stack them horizontally to make a single array. \n",
    "# Rebuild arrays divided by scipy.sparse.hstack. \n",
    "# Note that matrices are sparse. \n",
    "# In numerical analysis, a sparse matrix is a matrix in which most of the elements are zero. \n",
    "X = hstack([X_tfidf,X_train_categ])"
   ]
  },
  {
   "cell_type": "code",
   "execution_count": 193,
   "metadata": {},
   "outputs": [
    {
     "data": {
      "text/plain": [
       "Ridge(alpha=1.0, copy_X=True, fit_intercept=True, max_iter=None,\n",
       "   normalize=False, random_state=241, solver='auto', tol=0.001)"
      ]
     },
     "execution_count": 193,
     "metadata": {},
     "output_type": "execute_result"
    }
   ],
   "source": [
    "# Classifier: \n",
    "clf = Ridge(alpha=1.0, random_state=241)\n",
    "\n",
    "# The target value (algorithm has to predict) is SalaryNormalized\n",
    "y = train['precio']\n",
    "\n",
    "# train model on data\n",
    "clf.fit(X, y) "
   ]
  },
  {
   "cell_type": "markdown",
   "metadata": {},
   "source": [
    "## Preparamos los datos de test para prediccion"
   ]
  },
  {
   "cell_type": "code",
   "execution_count": 194,
   "metadata": {},
   "outputs": [
    {
     "data": {
      "text/plain": [
       "<35704x23694 sparse matrix of type '<type 'numpy.float64'>'\n",
       "\twith 1626532 stored elements in COOrdinate format>"
      ]
     },
     "execution_count": 194,
     "metadata": {},
     "output_type": "execute_result"
    }
   ],
   "source": [
    "test1['provincia'].fillna('nan', inplace=True)\n",
    "test1['descripcion']=test1['descripcion'].str.lower()\n",
    "test1['descripcion'].replace('[^a-zA-Z0-9]', ' ', regex = True)\n",
    "X_testtidf = vectorizer.transform(test1['descripcion']) \n",
    "X_test_categ = enc.transform(test1[['provincia']].to_dict('records'))\n",
    "\n",
    "# Take a sequence of arrays and stack them horizontally to make a single array. \n",
    "# Rebuild arrays divided by scipy.sparse.hstack. \n",
    "# Note that matrices are sparse. \n",
    "# In numerical analysis, a sparse matrix is a matrix in which most of the elements are zero. \n",
    "\n",
    "X_test = hstack([X_testtidf,X_test_categ])\n",
    "X_test"
   ]
  },
  {
   "cell_type": "markdown",
   "metadata": {},
   "source": [
    "## Realizamos Prediccion "
   ]
  },
  {
   "cell_type": "code",
   "execution_count": 195,
   "metadata": {},
   "outputs": [],
   "source": [
    "rslt = clf.predict(X_test)"
   ]
  },
  {
   "cell_type": "code",
   "execution_count": 196,
   "metadata": {},
   "outputs": [],
   "source": [
    "test['prediccion']=rslt"
   ]
  },
  {
   "cell_type": "code",
   "execution_count": 197,
   "metadata": {},
   "outputs": [
    {
     "data": {
      "text/html": [
       "<div>\n",
       "<style scoped>\n",
       "    .dataframe tbody tr th:only-of-type {\n",
       "        vertical-align: middle;\n",
       "    }\n",
       "\n",
       "    .dataframe tbody tr th {\n",
       "        vertical-align: top;\n",
       "    }\n",
       "\n",
       "    .dataframe thead th {\n",
       "        text-align: right;\n",
       "    }\n",
       "</style>\n",
       "<table border=\"1\" class=\"dataframe\">\n",
       "  <thead>\n",
       "    <tr style=\"text-align: right;\">\n",
       "      <th></th>\n",
       "      <th>id</th>\n",
       "      <th>descripcion</th>\n",
       "      <th>provincia</th>\n",
       "      <th>precio</th>\n",
       "      <th>prediccion</th>\n",
       "    </tr>\n",
       "  </thead>\n",
       "  <tbody>\n",
       "    <tr>\n",
       "      <th>204010</th>\n",
       "      <td>201241</td>\n",
       "      <td>&lt;p&gt;preciosos departamentos ubicados en sodzil ...</td>\n",
       "      <td>Yucatán</td>\n",
       "      <td>1050000.0</td>\n",
       "      <td>3.271097e+05</td>\n",
       "    </tr>\n",
       "    <tr>\n",
       "      <th>204011</th>\n",
       "      <td>216425</td>\n",
       "      <td>¡¡¡ estrene !!! condominio nuevo estilo minima...</td>\n",
       "      <td>Distrito Federal</td>\n",
       "      <td>3490000.0</td>\n",
       "      <td>5.118455e+06</td>\n",
       "    </tr>\n",
       "    <tr>\n",
       "      <th>204012</th>\n",
       "      <td>26156</td>\n",
       "      <td>-- rav01698n-108 --    deptos de primer nivel&amp;...</td>\n",
       "      <td>Distrito Federal</td>\n",
       "      <td>4468119.0</td>\n",
       "      <td>4.409682e+06</td>\n",
       "    </tr>\n",
       "  </tbody>\n",
       "</table>\n",
       "</div>"
      ],
      "text/plain": [
       "            id                                        descripcion  \\\n",
       "204010  201241  <p>preciosos departamentos ubicados en sodzil ...   \n",
       "204011  216425  ¡¡¡ estrene !!! condominio nuevo estilo minima...   \n",
       "204012   26156  -- rav01698n-108 --    deptos de primer nivel&...   \n",
       "\n",
       "               provincia     precio    prediccion  \n",
       "204010           Yucatán  1050000.0  3.271097e+05  \n",
       "204011  Distrito Federal  3490000.0  5.118455e+06  \n",
       "204012  Distrito Federal  4468119.0  4.409682e+06  "
      ]
     },
     "execution_count": 197,
     "metadata": {},
     "output_type": "execute_result"
    }
   ],
   "source": [
    "test.head(3)"
   ]
  },
  {
   "cell_type": "markdown",
   "metadata": {},
   "source": [
    "## Obtengo RSME y RSMLE"
   ]
  },
  {
   "cell_type": "code",
   "execution_count": 209,
   "metadata": {},
   "outputs": [],
   "source": [
    "dferr = test[test['prediccion']>-1]\n",
    "dferr=dferr[dferr['prediccion'].notna()]\n",
    "dferr['precio']=dferr['precio'].apply(lambda x : float(x))\n",
    "dferr=dferr[dferr['precio']>-1]"
   ]
  },
  {
   "cell_type": "code",
   "execution_count": 208,
   "metadata": {},
   "outputs": [
    {
     "data": {
      "text/html": [
       "<div>\n",
       "<style scoped>\n",
       "    .dataframe tbody tr th:only-of-type {\n",
       "        vertical-align: middle;\n",
       "    }\n",
       "\n",
       "    .dataframe tbody tr th {\n",
       "        vertical-align: top;\n",
       "    }\n",
       "\n",
       "    .dataframe thead th {\n",
       "        text-align: right;\n",
       "    }\n",
       "</style>\n",
       "<table border=\"1\" class=\"dataframe\">\n",
       "  <thead>\n",
       "    <tr style=\"text-align: right;\">\n",
       "      <th></th>\n",
       "      <th>id</th>\n",
       "      <th>descripcion</th>\n",
       "      <th>provincia</th>\n",
       "      <th>precio</th>\n",
       "      <th>prediccion</th>\n",
       "    </tr>\n",
       "  </thead>\n",
       "  <tbody>\n",
       "    <tr>\n",
       "      <th>216333</th>\n",
       "      <td>131483</td>\n",
       "      <td>&lt;p&gt;excelente oportunidad a solo 5 mins. de tel...</td>\n",
       "      <td>n. garaje para 2 autos y bodega. cuarto de ser...</td>\n",
       "      <td>-99.244559</td>\n",
       "      <td>1.144821e+05</td>\n",
       "    </tr>\n",
       "    <tr>\n",
       "      <th>232004</th>\n",
       "      <td>2431</td>\n",
       "      <td>&lt;p&gt;excelente residencia nuevecita ubicada en e...</td>\n",
       "      <td>&amp;iexcl</td>\n",
       "      <td>-103.447824</td>\n",
       "      <td>2.547107e+06</td>\n",
       "    </tr>\n",
       "  </tbody>\n",
       "</table>\n",
       "</div>"
      ],
      "text/plain": [
       "            id                                        descripcion  \\\n",
       "216333  131483  <p>excelente oportunidad a solo 5 mins. de tel...   \n",
       "232004    2431  <p>excelente residencia nuevecita ubicada en e...   \n",
       "\n",
       "                                                provincia      precio  \\\n",
       "216333  n. garaje para 2 autos y bodega. cuarto de ser...  -99.244559   \n",
       "232004                                             &iexcl -103.447824   \n",
       "\n",
       "          prediccion  \n",
       "216333  1.144821e+05  \n",
       "232004  2.547107e+06  "
      ]
     },
     "execution_count": 208,
     "metadata": {},
     "output_type": "execute_result"
    }
   ],
   "source": [
    "dferr[dferr['precio']<-1]"
   ]
  },
  {
   "cell_type": "code",
   "execution_count": 210,
   "metadata": {},
   "outputs": [],
   "source": [
    "rsme, rsmle = get_errors(dferr['precio'],dferr['prediccion'])"
   ]
  },
  {
   "cell_type": "code",
   "execution_count": 211,
   "metadata": {},
   "outputs": [
    {
     "data": {
      "text/plain": [
       "1463453.2471801217"
      ]
     },
     "execution_count": 211,
     "metadata": {},
     "output_type": "execute_result"
    }
   ],
   "source": [
    "rsme"
   ]
  },
  {
   "cell_type": "code",
   "execution_count": 212,
   "metadata": {},
   "outputs": [
    {
     "data": {
      "text/plain": [
       "0.9941945466339057"
      ]
     },
     "execution_count": 212,
     "metadata": {},
     "output_type": "execute_result"
    }
   ],
   "source": [
    "rsmle"
   ]
  },
  {
   "cell_type": "markdown",
   "metadata": {},
   "source": [
    "# Analisis provincia a provincia "
   ]
  },
  {
   "cell_type": "code",
   "execution_count": 89,
   "metadata": {},
   "outputs": [],
   "source": [
    "dfgroups = dfWords[['id','provincia','descripcion','precio']]"
   ]
  },
  {
   "cell_type": "code",
   "execution_count": 90,
   "metadata": {},
   "outputs": [],
   "source": [
    "provincias = dfgroups['provincia'].value_counts()[:32].keys()"
   ]
  },
  {
   "cell_type": "code",
   "execution_count": 91,
   "metadata": {},
   "outputs": [],
   "source": [
    "dfgroups = dfgroups[dfgroups['provincia'].isin(provincias)]"
   ]
  },
  {
   "cell_type": "code",
   "execution_count": 93,
   "metadata": {},
   "outputs": [
    {
     "data": {
      "text/plain": [
       "Index([u'Distrito Federal', u'Edo. de México', u'Jalisco', u'Querétaro',\n",
       "       u'Nuevo León', u'Puebla', u'San luis Potosí', u'Yucatán', u'Morelos',\n",
       "       u'Veracruz', u'Quintana Roo', u'Chihuahua', u'Coahuila',\n",
       "       u'Baja California Norte', u'Sonora', u'Guanajuato', u'Guerrero',\n",
       "       u'Hidalgo', u'Michoacán', u'Tamaulipas', u'Durango', u'Sinaloa',\n",
       "       u'Aguascalientes', u'Baja California Sur', u'Nayarit', u'Chiapas',\n",
       "       u'Colima', u'Tabasco', u'Tlaxcala', u'Oaxaca', u'Campeche',\n",
       "       u'Zacatecas'],\n",
       "      dtype='object')"
      ]
     },
     "execution_count": 93,
     "metadata": {},
     "output_type": "execute_result"
    }
   ],
   "source": [
    "provincias"
   ]
  },
  {
   "cell_type": "code",
   "execution_count": 169,
   "metadata": {},
   "outputs": [],
   "source": [
    "def getPrediction(dfWords,provincia='Distrito Federal'):\n",
    "    df = dfWords[dfWords['provincia']==provincia]\n",
    "    # Separamos en Train/Test\n",
    "    limit = int(0.85 * len(df))\n",
    "    train = df[0:limit]\n",
    "    test= df[limit:]\n",
    "    test['provincia'].fillna('nan', inplace=True)\n",
    "\n",
    "    vectorizer = TfidfVectorizer(min_df=5)\n",
    "    X_tfidf = vectorizer.fit_transform(train['descripcion'])\n",
    "    train['provincia'].fillna('nan', inplace=True)\n",
    "    enc = DictVectorizer()\n",
    "    X_train_categ = enc.fit_transform(train[['provincia']].to_dict('records'))\n",
    "\n",
    "    # Take a sequence of arrays and stack them horizontally to make a single array. \n",
    "    # Rebuild arrays divided by scipy.sparse.hstack. \n",
    "    # Note that matrices are sparse. \n",
    "    # In numerical analysis, a sparse matrix is a matrix in which most of the elements are zero. \n",
    "    X = hstack([X_tfidf,X_train_categ])\n",
    "    # Classifier: \n",
    "    clf = Ridge(alpha=1.0, random_state=241)\n",
    "\n",
    "    # The target value (algorithm has to predict) is SalaryNormalized\n",
    "    y = train['precio']\n",
    "\n",
    "    # train model on data\n",
    "    clf.fit(X, y) \n",
    "    \n",
    "    test=test[['id','descripcion','provincia','precio']]\n",
    "    test1 = test[['id','descripcion','provincia']]\n",
    "    test1['precio']=0\n",
    "    test1['descripcion']=test1['descripcion'].str.lower()\n",
    "    test1['descripcion']=test1['descripcion'].replace('[^a-zA-Z0-9]', ' ', regex = True)\n",
    "    X_testtidf = vectorizer.transform(test1['descripcion']) \n",
    "    X_test_categ = enc.transform(test1[['provincia']].to_dict('records'))\n",
    "\n",
    "    # Take a sequence of arrays and stack them horizontally to make a single array. \n",
    "    # Rebuild arrays divided by scipy.sparse.hstack. \n",
    "    # Note that matrices are sparse. \n",
    "    # In numerical analysis, a sparse matrix is a matrix in which most of the elements are zero. \n",
    "\n",
    "    X_test = hstack([X_testtidf,X_test_categ])\n",
    "    rslt = clf.predict(X_test)\n",
    "    test['prediccion']=rslt\n",
    "#     rmse=math.sqrt(mean_squared_error(test['precio'],test['prediccion']))\n",
    "    testx = test[test['prediccion'].notna()]\n",
    "    testx =testx[testx['prediccion']>-1]\n",
    "    testx['precio']=testx['precio'].apply(lambda x:float(x))\n",
    "    rsme, rsmle = get_errors(testx['precio'],testx['prediccion'])\n",
    "    \n",
    "    return rmse,rsmle"
   ]
  },
  {
   "cell_type": "code",
   "execution_count": 108,
   "metadata": {},
   "outputs": [
    {
     "data": {
      "text/plain": [
       "Index([u'Distrito Federal', u'Edo. de México', u'Jalisco', u'Querétaro',\n",
       "       u'Nuevo León', u'Puebla', u'San luis Potosí', u'Yucatán', u'Morelos',\n",
       "       u'Veracruz', u'Quintana Roo', u'Chihuahua', u'Coahuila',\n",
       "       u'Baja California Norte', u'Sonora', u'Guanajuato', u'Guerrero',\n",
       "       u'Hidalgo', u'Michoacán', u'Tamaulipas', u'Durango', u'Sinaloa',\n",
       "       u'Aguascalientes', u'Baja California Sur', u'Nayarit', u'Chiapas',\n",
       "       u'Colima', u'Tabasco', u'Tlaxcala', u'Oaxaca', u'Campeche',\n",
       "       u'Zacatecas'],\n",
       "      dtype='object')"
      ]
     },
     "execution_count": 108,
     "metadata": {},
     "output_type": "execute_result"
    }
   ],
   "source": [
    "provincias"
   ]
  },
  {
   "cell_type": "code",
   "execution_count": 171,
   "metadata": {},
   "outputs": [],
   "source": [
    "rsme =dict()\n",
    "for province in provincias:\n",
    "    rsme[province]= getPrediction(dfWords,province)"
   ]
  },
  {
   "cell_type": "code",
   "execution_count": 176,
   "metadata": {},
   "outputs": [],
   "source": [
    "dfERRORS = pd.DataFrame.from_dict(rsme)"
   ]
  },
  {
   "cell_type": "code",
   "execution_count": 179,
   "metadata": {},
   "outputs": [],
   "source": [
    "dfERRORS.to_csv('errorsWords.csv')"
   ]
  },
  {
   "cell_type": "code",
   "execution_count": null,
   "metadata": {},
   "outputs": [],
   "source": []
  }
 ],
 "metadata": {
  "kernelspec": {
   "display_name": "Python 3",
   "language": "python",
   "name": "python3"
  },
  "language_info": {
   "codemirror_mode": {
    "name": "ipython",
    "version": 2
   },
   "file_extension": ".py",
   "mimetype": "text/x-python",
   "name": "python",
   "nbconvert_exporter": "python",
   "pygments_lexer": "ipython2",
   "version": "2.7.17"
  }
 },
 "nbformat": 4,
 "nbformat_minor": 2
}
